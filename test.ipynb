{
 "cells": [
  {
   "cell_type": "code",
   "execution_count": null,
   "metadata": {
    "tags": []
   },
   "outputs": [],
   "source": [
    "import torch\n",
    "from torch import nn, Tensor\n",
    "from torch.utils.data import Dataset, DataLoader\n",
    "import numpy as np\n",
    "import enchant\n",
    "from data_loader import tokenize, WordDataset\n",
    "from transformer import Model"
   ]
  },
  {
   "cell_type": "code",
   "execution_count": null,
   "metadata": {
    "tags": []
   },
   "outputs": [],
   "source": [
    "path = '' # path to the model\n",
    "model = torch.load(path, map_location=torch.device('cpu'))"
   ]
  },
  {
   "cell_type": "code",
   "execution_count": null,
   "metadata": {
    "tags": []
   },
   "outputs": [],
   "source": [
    "def guess(word,guessed_letters):\n",
    "    input_sequence = torch.tensor(tokenize('abc',16)).unsqueeze(0)\n",
    "    model.eval()\n",
    "    with torch.no_grad():\n",
    "        predictions = model(input_sequence).squeeze(0)\n",
    "        for ch in guessed_letters:\n",
    "            predictions[ord(ch)-ord('a')] = -np.inf\n",
    "        predicted_index = np.argmax(predictions)\n",
    "        predicted_char = chr(predicted_index + ord('a'))\n",
    "    return predicted_char\n",
    "    # return predictions\n",
    "\n",
    "def play(word,verbose):\n",
    "    input_word = '#'*len(word)\n",
    "    num_tries = 6; guessed_letters = []\n",
    "    if verbose: print(\"test word: \",word)\n",
    "    if verbose: print(\"input    : \",input_word,\"\\n\")\n",
    "    while num_tries > 0:\n",
    "        guess_letter = guess(input_word,guessed_letters)\n",
    "        guessed_letters.append(guess_letter)\n",
    "        if verbose: print(\"Guessing letter: \",guess_letter)\n",
    "        if guess_letter in word:\n",
    "            if verbose: print(\"Correct guess!\")\n",
    "            input_word = [word[i] if word[i] == guess_letter else input_word[i] for i in range(len(word))]\n",
    "            input_word = \"\".join(input_word)\n",
    "            # if verbose: print(input_word)\n",
    "        else:\n",
    "            if verbose: print(\"Incorrect guess!\")\n",
    "            num_tries -= 1\n",
    "        if verbose: print(\"Current word: \",input_word)\n",
    "        if verbose: print(\"Number of tries left: \",num_tries)\n",
    "        if verbose: print(\"Guessed letters: \",guessed_letters)\n",
    "        if verbose: print(\"\\n\")\n",
    "        if \"#\" not in input_word:\n",
    "            if verbose: print(\"You win!\")\n",
    "            # len_accuracy[len(test)].append(1)\n",
    "            won = 1\n",
    "            break\n",
    "    if input != word:\n",
    "        won = 0\n",
    "        if verbose: print(\"You lose!\")\n",
    "        # len_accuracy[len(test)].append(0)\n",
    "    if verbose: print(word,'----',input_word)\n",
    "    return won"
   ]
  },
  {
   "cell_type": "code",
   "execution_count": null,
   "metadata": {
    "tags": []
   },
   "outputs": [],
   "source": [
    "play('toggle', 1)"
   ]
  }
 ],
 "metadata": {
  "kernelspec": {
   "display_name": "test2",
   "language": "python",
   "name": "python3"
  },
  "language_info": {
   "codemirror_mode": {
    "name": "ipython",
    "version": 3
   },
   "file_extension": ".py",
   "mimetype": "text/x-python",
   "name": "python",
   "nbconvert_exporter": "python",
   "pygments_lexer": "ipython3",
   "version": "3.11.7"
  }
 },
 "nbformat": 4,
 "nbformat_minor": 4
}
